{
  "nbformat": 4,
  "nbformat_minor": 0,
  "metadata": {
    "colab": {
      "provenance": [],
      "authorship_tag": "ABX9TyOFL7bWKob47HE7KWhyiSER",
      "include_colab_link": true
    },
    "kernelspec": {
      "name": "python3",
      "display_name": "Python 3"
    },
    "language_info": {
      "name": "python"
    }
  },
  "cells": [
    {
      "cell_type": "markdown",
      "metadata": {
        "id": "view-in-github",
        "colab_type": "text"
      },
      "source": [
        "<a href=\"https://colab.research.google.com/github/Supra-CN/practice/blob/master/llm/weaviate/weaviate_query.ipynb\" target=\"_parent\"><img src=\"https://colab.research.google.com/assets/colab-badge.svg\" alt=\"Open In Colab\"/></a>"
      ]
    },
    {
      "cell_type": "code",
      "execution_count": 11,
      "metadata": {
        "id": "Tww8nrXYd25E"
      },
      "outputs": [],
      "source": [
        "# 获取环境密文\n",
        "from google.colab import userdata\n",
        "\n",
        "weaviateHost = userdata.get('WEAVIATE_HOST')\n",
        "weaviateApiKey = userdata.get('WEAVIATE_API_KEY')\n",
        "\n",
        "# print(f\"weaviateHost={weaviateHost}\")\n",
        "# print(f\"weaviateApiKey={weaviateApiKey}\")\n"
      ]
    },
    {
      "cell_type": "code",
      "source": [
        "# 安装 weaviate-client\n",
        "!pip install weaviate-client\n",
        "\n",
        "import weaviate\n",
        "\n",
        "# 连接到 Weaviate 实例\n",
        "client = weaviate.Client(\n",
        "    url=weaviateHost,\n",
        "    auth_client_secret=weaviate.AuthApiKey(api_key=weaviateApiKey),\n",
        ")\n",
        "\n",
        "# 查询所有类\n",
        "schema = client.schema.get()\n",
        "classes = schema['classes']\n",
        "class_names = [cls['class'] for cls in classes]\n",
        "\n",
        "print(\"Available classes:\", class_names)\n"
      ],
      "metadata": {
        "colab": {
          "base_uri": "https://localhost:8080/"
        },
        "id": "H1oXBeCPf62-",
        "outputId": "3f8eb68b-ae44-46f8-9185-3b49eb95136e"
      },
      "execution_count": 12,
      "outputs": [
        {
          "output_type": "stream",
          "name": "stdout",
          "text": [
            "Requirement already satisfied: weaviate-client in /usr/local/lib/python3.10/dist-packages (4.4.4)\n",
            "Requirement already satisfied: requests<3.0.0,>=2.30.0 in /usr/local/lib/python3.10/dist-packages (from weaviate-client) (2.31.0)\n",
            "Requirement already satisfied: httpx==0.26.0 in /usr/local/lib/python3.10/dist-packages (from weaviate-client) (0.26.0)\n",
            "Requirement already satisfied: validators==0.22.0 in /usr/local/lib/python3.10/dist-packages (from weaviate-client) (0.22.0)\n",
            "Requirement already satisfied: authlib<2.0.0,>=1.2.1 in /usr/local/lib/python3.10/dist-packages (from weaviate-client) (1.3.0)\n",
            "Requirement already satisfied: pydantic<3.0.0,>=2.5.0 in /usr/local/lib/python3.10/dist-packages (from weaviate-client) (2.6.1)\n",
            "Requirement already satisfied: grpcio<2.0.0,>=1.57.0 in /usr/local/lib/python3.10/dist-packages (from weaviate-client) (1.60.1)\n",
            "Requirement already satisfied: grpcio-tools<2.0.0,>=1.57.0 in /usr/local/lib/python3.10/dist-packages (from weaviate-client) (1.60.1)\n",
            "Requirement already satisfied: grpcio-health-checking<2.0.0,>=1.57.0 in /usr/local/lib/python3.10/dist-packages (from weaviate-client) (1.60.1)\n",
            "Requirement already satisfied: anyio in /usr/local/lib/python3.10/dist-packages (from httpx==0.26.0->weaviate-client) (3.7.1)\n",
            "Requirement already satisfied: certifi in /usr/local/lib/python3.10/dist-packages (from httpx==0.26.0->weaviate-client) (2024.2.2)\n",
            "Requirement already satisfied: httpcore==1.* in /usr/local/lib/python3.10/dist-packages (from httpx==0.26.0->weaviate-client) (1.0.3)\n",
            "Requirement already satisfied: idna in /usr/local/lib/python3.10/dist-packages (from httpx==0.26.0->weaviate-client) (3.6)\n",
            "Requirement already satisfied: sniffio in /usr/local/lib/python3.10/dist-packages (from httpx==0.26.0->weaviate-client) (1.3.0)\n",
            "Requirement already satisfied: h11<0.15,>=0.13 in /usr/local/lib/python3.10/dist-packages (from httpcore==1.*->httpx==0.26.0->weaviate-client) (0.14.0)\n",
            "Requirement already satisfied: cryptography in /usr/local/lib/python3.10/dist-packages (from authlib<2.0.0,>=1.2.1->weaviate-client) (42.0.3)\n",
            "Requirement already satisfied: protobuf>=4.21.6 in /usr/local/lib/python3.10/dist-packages (from grpcio-health-checking<2.0.0,>=1.57.0->weaviate-client) (4.25.3)\n",
            "Requirement already satisfied: setuptools in /usr/local/lib/python3.10/dist-packages (from grpcio-tools<2.0.0,>=1.57.0->weaviate-client) (67.7.2)\n",
            "Requirement already satisfied: annotated-types>=0.4.0 in /usr/local/lib/python3.10/dist-packages (from pydantic<3.0.0,>=2.5.0->weaviate-client) (0.6.0)\n",
            "Requirement already satisfied: pydantic-core==2.16.2 in /usr/local/lib/python3.10/dist-packages (from pydantic<3.0.0,>=2.5.0->weaviate-client) (2.16.2)\n",
            "Requirement already satisfied: typing-extensions>=4.6.1 in /usr/local/lib/python3.10/dist-packages (from pydantic<3.0.0,>=2.5.0->weaviate-client) (4.9.0)\n",
            "Requirement already satisfied: charset-normalizer<4,>=2 in /usr/local/lib/python3.10/dist-packages (from requests<3.0.0,>=2.30.0->weaviate-client) (3.3.2)\n",
            "Requirement already satisfied: urllib3<3,>=1.21.1 in /usr/local/lib/python3.10/dist-packages (from requests<3.0.0,>=2.30.0->weaviate-client) (2.0.7)\n",
            "Requirement already satisfied: exceptiongroup in /usr/local/lib/python3.10/dist-packages (from anyio->httpx==0.26.0->weaviate-client) (1.2.0)\n",
            "Requirement already satisfied: cffi>=1.12 in /usr/local/lib/python3.10/dist-packages (from cryptography->authlib<2.0.0,>=1.2.1->weaviate-client) (1.16.0)\n",
            "Requirement already satisfied: pycparser in /usr/local/lib/python3.10/dist-packages (from cffi>=1.12->cryptography->authlib<2.0.0,>=1.2.1->weaviate-client) (2.21)\n",
            "Available classes: ['LangChain_Combined_Docs_OpenAI_text_embedding_3_small']\n"
          ]
        }
      ]
    },
    {
      "cell_type": "code",
      "source": [
        "import json\n",
        "\n",
        "for class_name in class_names:\n",
        "    # 使用 GraphQL 查询每个类的前 3 个对象\n",
        "    query = \"\"\"\n",
        "    {{\n",
        "      Get {{\n",
        "        {class_name} (limit: 3) {{\n",
        "          _additional {{\n",
        "            id\n",
        "            certainty\n",
        "          }}\n",
        "        }}\n",
        "      }}\n",
        "    }}\n",
        "    \"\"\".format(class_name=class_name)\n",
        "\n",
        "    result = client.query.raw(query)\n",
        "    print(f\"First 3 objects in class '{class_name}': type:{type(result)} \\n >> {json.dumps(result, indent=4)}\")\n",
        "\n"
      ],
      "metadata": {
        "colab": {
          "base_uri": "https://localhost:8080/"
        },
        "id": "GOHRgLPhgfOh",
        "outputId": "3100037e-b97c-43c5-e860-e4af8d2cd8d1"
      },
      "execution_count": 13,
      "outputs": [
        {
          "output_type": "stream",
          "name": "stdout",
          "text": [
            "First 3 objects in class 'LangChain_Combined_Docs_OpenAI_text_embedding_3_small': type:<class 'dict'> \n",
            " >> {\n",
            "    \"data\": {\n",
            "        \"Get\": {\n",
            "            \"LangChain_Combined_Docs_OpenAI_text_embedding_3_small\": [\n",
            "                {\n",
            "                    \"_additional\": {\n",
            "                        \"certainty\": null,\n",
            "                        \"id\": \"0004d896-ce13-5179-976d-164be8365600\"\n",
            "                    }\n",
            "                },\n",
            "                {\n",
            "                    \"_additional\": {\n",
            "                        \"certainty\": null,\n",
            "                        \"id\": \"000ab737-af3b-5857-a55f-2a644f6f8cdd\"\n",
            "                    }\n",
            "                },\n",
            "                {\n",
            "                    \"_additional\": {\n",
            "                        \"certainty\": null,\n",
            "                        \"id\": \"000cd54c-2562-5c1b-9696-7776ca8e6653\"\n",
            "                    }\n",
            "                }\n",
            "            ]\n",
            "        }\n",
            "    }\n",
            "}\n"
          ]
        }
      ]
    }
  ]
}